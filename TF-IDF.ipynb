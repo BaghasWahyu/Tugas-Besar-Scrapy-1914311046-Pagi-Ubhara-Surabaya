{
 "metadata": {
  "language_info": {
   "codemirror_mode": {
    "name": "ipython",
    "version": 3
   },
   "file_extension": ".py",
   "mimetype": "text/x-python",
   "name": "python",
   "nbconvert_exporter": "python",
   "pygments_lexer": "ipython3",
   "version": "3.8.8"
  },
  "orig_nbformat": 2,
  "kernelspec": {
   "name": "python388jvsc74a57bd0827bd1092702366d7b95ec0e1c26a7146c0c20f7767c239f53597f5a9a2f890b",
   "display_name": "Python 3.8.8 64-bit"
  },
  "metadata": {
   "interpreter": {
    "hash": "827bd1092702366d7b95ec0e1c26a7146c0c20f7767c239f53597f5a9a2f890b"
   }
  }
 },
 "nbformat": 4,
 "nbformat_minor": 2,
 "cells": [
  {
   "cell_type": "code",
   "execution_count": null,
   "metadata": {},
   "outputs": [],
   "source": [
    "from bs4 import BeautifulSoup as bs \n",
    "import os\n",
    "import re\n",
    "import pandas as pd\n",
    "import numpy as np\n",
    "from sklearn.feature_extraction.text import TfidfVectorizer"
   ]
  },
  {
   "cell_type": "code",
   "execution_count": null,
   "metadata": {},
   "outputs": [],
   "source": [
    "folder = \"./Novel/Chapter/\"\n",
    "for filename in os.listdir(folder):\n",
    "    if filename.endswith(\".html\"):\n",
    "        fname = os.path.join(folder, filename)\n",
    "        print(\"Filename: {}\".format(fname))"
   ]
  },
  {
   "cell_type": "code",
   "execution_count": null,
   "metadata": {},
   "outputs": [],
   "source": [
    "def teks_utuh(fname):\n",
    "    with open(fname, \"r\", encoding=\"utf8\") as f:\n",
    "        soup = bs(f.read(), \"html.parser\")\n",
    "        isi = soup.find_all(\"div\",{\"id\": \"asli\"}, \"p\")\n",
    "        pola = re.compile('<.*?>')\n",
    "        teks_awal = re.sub(pola, '', str(isi)) \n",
    "        new = teks_awal[1:teks_awal.find('&lt; Chapter')] \n",
    "        teks_bersih = new.replace(\". \", \".\").replace(\" , \", \" \").replace(\"www.worldnovel.online\", \"\").replace(\"\\xa0\", \" \")\n",
    "        return teks_bersih"
   ]
  },
  {
   "cell_type": "code",
   "execution_count": null,
   "metadata": {},
   "outputs": [],
   "source": [
    "# def Convert(string):\n",
    "#     li = list(string.split(\" \"))\n",
    "#     return li"
   ]
  },
  {
   "cell_type": "code",
   "execution_count": null,
   "metadata": {},
   "outputs": [],
   "source": [
    "agt1 = teks_utuh(\"./Novel/Chapter/absolute-great-teacher-chapter-616-appreciation-of-a-major-character.html\")\n",
    "agt2 = teks_utuh(\"./Novel/Chapter/absolute-great-teacher-chapter-617-sun-mos-on-the-spot-guidance.html\")\n",
    "agt3 = teks_utuh(\"./Novel/Chapter/absolute-great-teacher-chapter-618-gathering-of-geniuses.html\")\n",
    "agt4 = teks_utuh(\"./Novel/Chapter/absolute-great-teacher-chapter-619-xuanyuan-po-your-acting-skills-are-so-exaggerated.html\")\n",
    "agt5 = teks_utuh(\"./Novel/Chapter/absolute-great-teacher-chapter-620-life-tutor-chicken-soup-for-the-soul.html\")\n",
    "agt6 = teks_utuh(\"./Novel/Chapter/absolute-great-teacher-chapter-621-mysterious-species-of-darkness-strange-ability.html\")\n",
    "agt7 = teks_utuh(\"./Novel/Chapter/absolute-great-teacher-chapter-622-sorry-i-didnt-hold-back-enough-and-injured-you.html\")\n",
    "agt8 = teks_utuh(\"./Novel/Chapter/absolute-great-teacher-chapter-623-im-fighting-for-my-teacher.html\")\n",
    "agt9 = teks_utuh(\"./Novel/Chapter/absolute-great-teacher-chapter-624-transforming-into-wind-ceremony-of-death.html\")\n",
    "agt10 = teks_utuh(\"./Novel/Chapter/absolute-great-teacher-chapter-625-sliding-into-the-dark-abyss.html\")"
   ]
  },
  {
   "cell_type": "code",
   "execution_count": null,
   "metadata": {},
   "outputs": [],
   "source": [
    "aea1 = teks_utuh (\"./Novel/Chapter/archean-eon-art-chapter-743-epiphany.html\")\n",
    "aea2 = teks_utuh (\"./Novel/Chapter/archean-eon-art-chapter-744-half-step-eighth-eminence-meng-chuan.html\")\n",
    "aea3 = teks_utuh (\"./Novel/Chapter/archean-eon-art-chapter-745-fate.html\")\n",
    "aea4 = teks_utuh (\"./Novel/Chapter/archean-eon-art-chapter-746-the-sound-on-the-mountaintop.html\")\n",
    "aea5 = teks_utuh (\"./Novel/Chapter/archean-eon-art-chapter-747-first-meeting-with-fiend-mountains-owner.html\")\n",
    "aea6 = teks_utuh (\"./Novel/Chapter/archean-eon-art-chapter-748-the-fate-of-celestial-thearch-myriad-star-final-chapter-of-volume.html\")\n",
    "aea7 = teks_utuh (\"./Novel/Chapter/archean-eon-art-chapter-749-tenacity-of-life.html\")\n",
    "aea8 = teks_utuh (\"./Novel/Chapter/archean-eon-art-chapter-750-more-than-ten-thousand-years-later.html\")\n",
    "aea9 = teks_utuh (\"./Novel/Chapter/archean-eon-art-chapter-751-natural-accomplishment.html\")\n",
    "aea10 = teks_utuh (\"./Novel/Chapter/archean-eon-art-chapter-752-essence-soul-eighth-tribulation-lifeform.html\")\n",
    "aea11 = teks_utuh (\"./Novel/Chapter/archean-eon-art-chapter-753-treatment.html\")"
   ]
  },
  {
   "cell_type": "code",
   "execution_count": null,
   "metadata": {},
   "outputs": [],
   "source": [
    "csg1 = teks_utuh(\"./Novel/Chapter/chaotic-sword-god-chapter-2948-l-ei-shiguang.html\")\n",
    "csg2 = teks_utuh(\"./Novel/Chapter/chaotic-sword-god-chapter-2949-manifestation-of-the-ways.html\")\n",
    "csg3 = teks_utuh(\"./Novel/Chapter/chaotic-sword-god-chapter-2950-grand-exalt.html\")\n",
    "csg4 = teks_utuh(\"./Novel/Chapter/chaotic-sword-god-chapter-2951-hitchhiking.html\")\n",
    "csg5 = teks_utuh(\"./Novel/Chapter/chaotic-sword-god-chapter-2952-someone-to-run-errands.html\")\n",
    "csg6 = teks_utuh(\"./Novel/Chapter/chaotic-sword-god-chapter-2953-reaching-the-ice-pole-plane.html\")\n",
    "csg7 = teks_utuh(\"./Novel/Chapter/chaotic-sword-god-chapter-2954-the-lightning-god-clan-retreats.html\")\n",
    "csg8 = teks_utuh(\"./Novel/Chapter/chaotic-sword-god-chapter-2955-the-saint-monarch-passes.html\")\n",
    "csg9 = teks_utuh(\"./Novel/Chapter/chaotic-sword-god-chapter-2956-the-trade-association-of-five-regions.html\")\n",
    "csg10 = teks_utuh(\"./Novel/Chapter/chaotic-sword-god-chapter-2957-proceeding-to-the-heavenly-crane-clan.html\")\n",
    "csg11 = teks_utuh(\"./Novel/Chapter/chaotic-sword-god-chapter-2958-seeing-he-qianqian-again.html\")"
   ]
  },
  {
   "cell_type": "code",
   "execution_count": null,
   "metadata": {},
   "outputs": [],
   "source": [
    "rkr1 = teks_utuh(\"./Novel/Chapter/rkr-chapter-435.html\")\r\n",
    "rkr2 = teks_utuh(\"./Novel/Chapter/rkr-chapter-436.html\")\r\n",
    "rkr3 = teks_utuh(\"./Novel/Chapter/rkr-chapter-437.html\")\r\n",
    "rkr4 = teks_utuh(\"./Novel/Chapter/rkr-chapter-438.html\")\r\n",
    "rkr5 = teks_utuh(\"./Novel/Chapter/rkr-chapter-439.html\")\r\n",
    "rkr6 = teks_utuh(\"./Novel/Chapter/rkr-chapter-440.html\")\r\n",
    "rkr7 = teks_utuh(\"./Novel/Chapter/rkr-chapter-441.html\")\r\n",
    "rkr8 = teks_utuh(\"./Novel/Chapter/rkr-chapter-442.html\")\r\n",
    "rkr9 = teks_utuh(\"./Novel/Chapter/rkr-chapter-443.html\")\r\n",
    "rkr10 = teks_utuh(\"./Novel/Chapter/rkr-chapter-444.html\")\r\n",
    "rkr11 = teks_utuh(\"./Novel/Chapter/rkr-chapter-445.html\")"
   ]
  },
  {
   "cell_type": "code",
   "execution_count": null,
   "metadata": {},
   "outputs": [],
   "source": [
    "rop1 = teks_utuh(\"./Novel/Chapter/the-rise-of-phoenixes-chapter-194.html\")\n",
    "rop2 = teks_utuh(\"./Novel/Chapter/the-rise-of-phoenixes-chapter-195.html\")\n",
    "rop3 = teks_utuh(\"./Novel/Chapter/the-rise-of-phoenixes-chapter-196.html\")\n",
    "rop4 = teks_utuh(\"./Novel/Chapter/the-rise-of-phoenixes-chapter-197.html\")\n",
    "rop5 = teks_utuh(\"./Novel/Chapter/the-rise-of-phoenixes-chapter-198.html\")\n",
    "rop6 = teks_utuh(\"./Novel/Chapter/the-rise-of-phoenixes-chapter-199.html\")\n",
    "rop7 = teks_utuh(\"./Novel/Chapter/the-rise-of-phoenixes-chapter-200.html\")\n",
    "rop8 = teks_utuh(\"./Novel/Chapter/the-rise-of-phoenixes-chapter-201.html\")\n",
    "rop9 = teks_utuh(\"./Novel/Chapter/the-rise-of-phoenixes-chapter-202.html\")\n",
    "rop10 = teks_utuh(\"./Novel/Chapter/the-rise-of-phoenixes-chapter-203.html\")\n",
    "rop11 = teks_utuh(\"./Novel/Chapter/the-rise-of-phoenixes-chapter-204.html\")"
   ]
  },
  {
   "cell_type": "code",
   "execution_count": null,
   "metadata": {},
   "outputs": [],
   "source": [
    "# list_agt1 = Convert(agt1)\n",
    "# list_agt2 = Convert(agt2)\n",
    "# list_agt3 = Convert(agt3)\n",
    "# list_agt4 = Convert(agt4)\n",
    "# list_agt5 = Convert(agt5)\n",
    "# list_agt6 = Convert(agt6)\n",
    "# list_agt7 = Convert(agt7)\n",
    "# list_agt8 = Convert(agt8)\n",
    "# list_agt9 = Convert(agt9)\n",
    "# list_agt10 = Convert(agt10)"
   ]
  },
  {
   "cell_type": "code",
   "execution_count": null,
   "metadata": {},
   "outputs": [],
   "source": [
    "# cars = {'Konten': [list_agt1, list_agt2, list_agt3, list_agt4, list_agt5, list_agt6, list_agt7, list_agt8, list_agt9, list_agt10],\n",
    "#         'Judul': [\"Chapter 616\", \"Chapter 617\", \"Chapter 618\", \"Chapter 619\", \"Chapter 620\", \"Chapter 621\", \"Chapter 622\", \"Chapter 623\", \"Chapter 624\", \"Chapter 625\"]}\n",
    "\n",
    "# df = pd.DataFrame(cars, columns= ['Judul', 'Konten'])\n",
    "\n",
    "# print (df)\n",
    "# df.to_csv ('./Novel/export_dataframe.csv', index = False, header=True)"
   ]
  },
  {
   "cell_type": "code",
   "execution_count": null,
   "metadata": {},
   "outputs": [],
   "source": [
    "# Data_Novel = pd.read_csv(\"./Novel/export_dataframe.csv\", usecols=[\"Konten\"])\n",
    "# Data_Novel.columns = [\"Konten\"]\n",
    "# Data_Novel.head()"
   ]
  },
  {
   "cell_type": "code",
   "execution_count": null,
   "metadata": {},
   "outputs": [],
   "source": [
    "tfidf = TfidfVectorizer()"
   ]
  },
  {
   "cell_type": "code",
   "execution_count": null,
   "metadata": {},
   "outputs": [],
   "source": [
    "doc_a = tfidf.fit_transform([agt1, agt2, agt3, agt4, agt5, agt6, agt7, agt8, agt9, agt10])\n"
   ]
  },
  {
   "cell_type": "code",
   "execution_count": null,
   "metadata": {},
   "outputs": [],
   "source": [
    "doc_aea = tfidf.fit_transform([aea1, aea2 ,aea3 ,aea4 ,aea5 ,aea6 ,aea7 ,aea8 ,aea9 ,aea10, aea11])\n"
   ]
  },
  {
   "cell_type": "code",
   "execution_count": null,
   "metadata": {},
   "outputs": [],
   "source": [
    "doc_csg = tfidf.fit_transform([csg1, csg2 ,csg3 ,csg4 ,csg5 ,csg6 ,csg7 ,csg8 ,csg9 ,csg10, csg11])\n"
   ]
  },
  {
   "cell_type": "code",
   "execution_count": null,
   "metadata": {},
   "outputs": [],
   "source": [
    "doc_rkr = tfidf.fit_transform([rkr1, rkr2 ,rkr3 ,rkr4 ,rkr5 ,rkr6 ,rkr7 ,rkr8 ,rkr9 ,rkr10, rkr11])\n"
   ]
  },
  {
   "cell_type": "code",
   "execution_count": null,
   "metadata": {},
   "outputs": [],
   "source": [
    "doc_rop = tfidf.fit_transform([rop1, rop2 ,rop3 ,rop4 ,rop5 ,rop6 ,rop7 ,rop8 ,rop9 ,rop10, rop11])"
   ]
  },
  {
   "cell_type": "code",
   "execution_count": null,
   "metadata": {},
   "outputs": [],
   "source": [
    "def nilai_tfidf(doc): \n",
    "    feature_names = tfidf.get_feature_names()\n",
    "    for col in doc.nonzero()[1]:\n",
    "        print (feature_names[col], ' - ', doc[0, col])"
   ]
  },
  {
   "cell_type": "code",
   "execution_count": null,
   "metadata": {},
   "outputs": [],
   "source": [
    "def top10(doc):\n",
    "    feature_array = np.array(tfidf.get_feature_names())\n",
    "    tfidf_sorting = np.argsort(doc.toarray()).flatten()[::-1]\n",
    "    n = 10\n",
    "    top_n = feature_array[tfidf_sorting][:n]\n",
    "    print(top_n)"
   ]
  },
  {
   "cell_type": "code",
   "execution_count": null,
   "metadata": {},
   "outputs": [],
   "source": [
    "nilai_tfidf(doc_a)"
   ]
  },
  {
   "cell_type": "code",
   "execution_count": null,
   "metadata": {},
   "outputs": [],
   "source": [
    "top10(doc_agt)"
   ]
  },
  {
   "cell_type": "code",
   "execution_count": null,
   "metadata": {},
   "outputs": [],
   "source": [
    "nilai_tfidf(doc_aea)"
   ]
  },
  {
   "cell_type": "code",
   "execution_count": null,
   "metadata": {},
   "outputs": [],
   "source": [
    "top10(doc_aea)\n"
   ]
  },
  {
   "source": [
    "nilai_tfidf(doc_csg)"
   ],
   "cell_type": "code",
   "metadata": {},
   "execution_count": null,
   "outputs": []
  },
  {
   "cell_type": "code",
   "execution_count": null,
   "metadata": {},
   "outputs": [],
   "source": [
    "top10(doc_csg)"
   ]
  },
  {
   "cell_type": "code",
   "execution_count": null,
   "metadata": {},
   "outputs": [],
   "source": [
    "nilai_tfidf(doc_rkr)"
   ]
  },
  {
   "cell_type": "code",
   "execution_count": null,
   "metadata": {},
   "outputs": [],
   "source": [
    "top10(doc_rkr)\n"
   ]
  },
  {
   "cell_type": "code",
   "execution_count": null,
   "metadata": {},
   "outputs": [],
   "source": [
    "nilai_tfidf(doc_rop)"
   ]
  },
  {
   "cell_type": "code",
   "execution_count": null,
   "metadata": {},
   "outputs": [],
   "source": [
    "top10(doc_rop)\n"
   ]
  }
 ]
}