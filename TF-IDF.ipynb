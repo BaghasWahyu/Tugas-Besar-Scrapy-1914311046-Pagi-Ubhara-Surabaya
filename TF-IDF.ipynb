{
 "metadata": {
  "language_info": {
   "codemirror_mode": {
    "name": "ipython",
    "version": 3
   },
   "file_extension": ".py",
   "mimetype": "text/x-python",
   "name": "python",
   "nbconvert_exporter": "python",
   "pygments_lexer": "ipython3",
   "version": "3.8.8"
  },
  "orig_nbformat": 2,
  "kernelspec": {
   "name": "python388jvsc74a57bd0827bd1092702366d7b95ec0e1c26a7146c0c20f7767c239f53597f5a9a2f890b",
   "display_name": "Python 3.8.8 64-bit"
  },
  "metadata": {
   "interpreter": {
    "hash": "827bd1092702366d7b95ec0e1c26a7146c0c20f7767c239f53597f5a9a2f890b"
   }
  }
 },
 "nbformat": 4,
 "nbformat_minor": 2,
 "cells": [
  {
   "cell_type": "code",
   "execution_count": 26,
   "metadata": {},
   "outputs": [],
   "source": [
    "from bs4 import BeautifulSoup as bs \n",
    "import os\n",
    "import re"
   ]
  },
  {
   "cell_type": "code",
   "execution_count": 27,
   "metadata": {},
   "outputs": [
    {
     "output_type": "stream",
     "name": "stdout",
     "text": [
      "Filename: ./Novel/Chapter/absolute-great-teacher-chapter-616-appreciation-of-a-major-character.html\nFilename: ./Novel/Chapter/absolute-great-teacher-chapter-617-sun-mos-on-the-spot-guidance.html\nFilename: ./Novel/Chapter/absolute-great-teacher-chapter-618-gathering-of-geniuses.html\nFilename: ./Novel/Chapter/absolute-great-teacher-chapter-619-xuanyuan-po-your-acting-skills-are-so-exaggerated.html\nFilename: ./Novel/Chapter/absolute-great-teacher-chapter-620-life-tutor-chicken-soup-for-the-soul.html\nFilename: ./Novel/Chapter/absolute-great-teacher-chapter-621-mysterious-species-of-darkness-strange-ability.html\nFilename: ./Novel/Chapter/absolute-great-teacher-chapter-622-sorry-i-didnt-hold-back-enough-and-injured-you.html\nFilename: ./Novel/Chapter/absolute-great-teacher-chapter-623-im-fighting-for-my-teacher.html\nFilename: ./Novel/Chapter/absolute-great-teacher-chapter-624-transforming-into-wind-ceremony-of-death.html\nFilename: ./Novel/Chapter/absolute-great-teacher-chapter-625-sliding-into-the-dark-abyss.html\nFilename: ./Novel/Chapter/absolute-great-teacher-chapter-626-dark-great-teacher.html\nFilename: ./Novel/Chapter/archean-eon-art-chapter-743-epiphany.html\nFilename: ./Novel/Chapter/archean-eon-art-chapter-744-half-step-eighth-eminence-meng-chuan.html\nFilename: ./Novel/Chapter/archean-eon-art-chapter-745-fate.html\nFilename: ./Novel/Chapter/archean-eon-art-chapter-746-the-sound-on-the-mountaintop.html\nFilename: ./Novel/Chapter/archean-eon-art-chapter-747-first-meeting-with-fiend-mountains-owner.html\nFilename: ./Novel/Chapter/archean-eon-art-chapter-748-the-fate-of-celestial-thearch-myriad-star-final-chapter-of-volume.html\nFilename: ./Novel/Chapter/archean-eon-art-chapter-749-tenacity-of-life.html\nFilename: ./Novel/Chapter/archean-eon-art-chapter-750-more-than-ten-thousand-years-later.html\nFilename: ./Novel/Chapter/archean-eon-art-chapter-751-natural-accomplishment.html\nFilename: ./Novel/Chapter/archean-eon-art-chapter-752-essence-soul-eighth-tribulation-lifeform.html\nFilename: ./Novel/Chapter/archean-eon-art-chapter-753-treatment.html\nFilename: ./Novel/Chapter/chaotic-sword-god-chapter-2948-l-ei-shiguang.html\nFilename: ./Novel/Chapter/chaotic-sword-god-chapter-2949-manifestation-of-the-ways.html\nFilename: ./Novel/Chapter/chaotic-sword-god-chapter-2950-grand-exalt.html\nFilename: ./Novel/Chapter/chaotic-sword-god-chapter-2951-hitchhiking.html\nFilename: ./Novel/Chapter/chaotic-sword-god-chapter-2952-someone-to-run-errands.html\nFilename: ./Novel/Chapter/chaotic-sword-god-chapter-2953-reaching-the-ice-pole-plane.html\nFilename: ./Novel/Chapter/chaotic-sword-god-chapter-2954-the-lightning-god-clan-retreats.html\nFilename: ./Novel/Chapter/chaotic-sword-god-chapter-2955-the-saint-monarch-passes.html\nFilename: ./Novel/Chapter/chaotic-sword-god-chapter-2956-the-trade-association-of-five-regions.html\nFilename: ./Novel/Chapter/chaotic-sword-god-chapter-2957-proceeding-to-the-heavenly-crane-clan.html\nFilename: ./Novel/Chapter/chaotic-sword-god-chapter-2958-seeing-he-qianqian-again.html\nFilename: ./Novel/Chapter/rkr-chapter-435.html\nFilename: ./Novel/Chapter/rkr-chapter-436.html\nFilename: ./Novel/Chapter/rkr-chapter-437.html\nFilename: ./Novel/Chapter/rkr-chapter-438.html\nFilename: ./Novel/Chapter/rkr-chapter-439.html\nFilename: ./Novel/Chapter/rkr-chapter-440.html\nFilename: ./Novel/Chapter/rkr-chapter-441.html\nFilename: ./Novel/Chapter/rkr-chapter-442.html\nFilename: ./Novel/Chapter/rkr-chapter-443.html\nFilename: ./Novel/Chapter/rkr-chapter-444.html\nFilename: ./Novel/Chapter/rkr-chapter-445.html\nFilename: ./Novel/Chapter/the-rise-of-phoenixes-chapter-194.html\nFilename: ./Novel/Chapter/the-rise-of-phoenixes-chapter-195.html\nFilename: ./Novel/Chapter/the-rise-of-phoenixes-chapter-196.html\nFilename: ./Novel/Chapter/the-rise-of-phoenixes-chapter-197.html\nFilename: ./Novel/Chapter/the-rise-of-phoenixes-chapter-198.html\nFilename: ./Novel/Chapter/the-rise-of-phoenixes-chapter-199.html\nFilename: ./Novel/Chapter/the-rise-of-phoenixes-chapter-200.html\nFilename: ./Novel/Chapter/the-rise-of-phoenixes-chapter-201.html\nFilename: ./Novel/Chapter/the-rise-of-phoenixes-chapter-202.html\nFilename: ./Novel/Chapter/the-rise-of-phoenixes-chapter-203.html\nFilename: ./Novel/Chapter/the-rise-of-phoenixes-chapter-204.html\n"
     ]
    }
   ],
   "source": [
    "folder = \"./Novel/Chapter/\"\n",
    "for filename in os.listdir(folder):\n",
    "    if filename.endswith(\".html\"):\n",
    "        fname = os.path.join(folder, filename)\n",
    "        print(\"Filename: {}\".format(fname))"
   ]
  },
  {
   "cell_type": "code",
   "execution_count": 28,
   "metadata": {},
   "outputs": [],
   "source": [
    "def teks_utuh(fname):\n",
    "    with open(fname, \"r\", encoding=\"utf8\") as f:\n",
    "        soup = bs(f.read(), \"html.parser\")\n",
    "        isi = soup.find_all(\"div\",{\"id\": \"asli\"}, \"p\")\n",
    "        pola = re.compile('<.*?>')\n",
    "        teks_awal = re.sub(pola, '', str(isi)) \n",
    "        new = teks_awal[1:teks_awal.find('&lt; Chapter')] \n",
    "        teks_bersih = new.replace(\". \", \".\").replace(\" , \", \" \").replace(\"www.worldnovel.online\", \"\").replace(\"\\xa0\", \" \")\n",
    "        return teks_bersih"
   ]
  },
  {
   "cell_type": "code",
   "execution_count": 29,
   "metadata": {},
   "outputs": [],
   "source": [
    "def Convert(string):\n",
    "    li = list(string.split(\" \"))\n",
    "    return li"
   ]
  },
  {
   "cell_type": "code",
   "execution_count": 30,
   "metadata": {},
   "outputs": [
    {
     "output_type": "error",
     "ename": "SyntaxError",
     "evalue": "invalid syntax (<ipython-input-30-4dda7bf2ab3e>, line 1)",
     "traceback": [
      "\u001b[1;36m  File \u001b[1;32m\"<ipython-input-30-4dda7bf2ab3e>\"\u001b[1;36m, line \u001b[1;32m1\u001b[0m\n\u001b[1;33m    ./Novel/absolute-great-teacher-chapter-617-sun-mos-on-the-spot-guidance.html\u001b[0m\n\u001b[1;37m    ^\u001b[0m\n\u001b[1;31mSyntaxError\u001b[0m\u001b[1;31m:\u001b[0m invalid syntax\n"
     ]
    }
   ],
   "source": [
    "./Novel/absolute-great-teacher-chapter-617-sun-mos-on-the-spot-guidance.html\n",
    "Filename: \n",
    "Filename: ./Novel/absolute-great-teacher-chapter-619-xuanyuan-po-your-acting-skills-are-so-exaggerated.html\n",
    "Filename: ./Novel/absolute-great-teacher-chapter-620-life-tutor-chicken-soup-for-the-soul.html\n",
    "Filename: ./Novel/absolute-great-teacher-chapter-621-mysterious-species-of-darkness-strange-ability.html\n",
    "Filename: ./Novel/absolute-great-teacher-chapter-622-sorry-i-didnt-hold-back-enough-and-injured-you.html\n",
    "Filename: ./Novel/absolute-great-teacher-chapter-623-im-fighting-for-my-teacher.html\n",
    "Filename: ./Novel/absolute-great-teacher-chapter-624-transforming-into-wind-ceremony-of-death.html\n",
    "Filename: ./Novel/absolute-great-teacher-chapter-625-sliding-into-the-dark-abyss.html\n",
    "Filename: ./Novel/absolute-great-teacher-chapter-626-dark-great-teacher.html"
   ]
  },
  {
   "cell_type": "code",
   "execution_count": 34,
   "metadata": {},
   "outputs": [],
   "source": [
    "agt1 = teks_utuh(\"./Novel/Chapter/absolute-great-teacher-chapter-616-appreciation-of-a-major-character.html\")"
   ]
  },
  {
   "source": [
    "agt2 = teks_utuh(\"./Novel/Chapter/absolute-great-teacher-chapter-617-sun-mos-on-the-spot-guidance.html\")"
   ],
   "cell_type": "code",
   "metadata": {
    "tags": []
   },
   "execution_count": 35,
   "outputs": []
  },
  {
   "cell_type": "code",
   "execution_count": 36,
   "metadata": {},
   "outputs": [],
   "source": [
    "agt3 = teks_utuh(\"./Novel/Chapter/absolute-great-teacher-chapter-618-gathering-of-geniuses.html\")"
   ]
  },
  {
   "cell_type": "code",
   "execution_count": 37,
   "metadata": {},
   "outputs": [],
   "source": [
    "agt4 = teks_utuh(\"./Novel/Chapter/absolute-great-teacher-chapter-619-xuanyuan-po-your-acting-skills-are-so-exaggerated.html\")"
   ]
  },
  {
   "cell_type": "code",
   "execution_count": 38,
   "metadata": {},
   "outputs": [],
   "source": [
    "agt5 = teks_utuh(\"./Novel/Chapter/absolute-great-teacher-chapter-620-life-tutor-chicken-soup-for-the-soul.html\")"
   ]
  },
  {
   "cell_type": "code",
   "execution_count": 39,
   "metadata": {},
   "outputs": [],
   "source": [
    "agt6= teks_utuh(\"./Novel/Chapter/absolute-great-teacher-chapter-621-mysterious-species-of-darkness-strange-ability.html\")"
   ]
  },
  {
   "cell_type": "code",
   "execution_count": 40,
   "metadata": {},
   "outputs": [],
   "source": [
    "agt7 = teks_utuh(\"./Novel/Chapter/absolute-great-teacher-chapter-622-sorry-i-didnt-hold-back-enough-and-injured-you.html\")"
   ]
  },
  {
   "cell_type": "code",
   "execution_count": 41,
   "metadata": {},
   "outputs": [],
   "source": [
    "agt8 = teks_utuh(\"./Novel/Chapter/absolute-great-teacher-chapter-623-im-fighting-for-my-teacher.html\")"
   ]
  },
  {
   "cell_type": "code",
   "execution_count": 42,
   "metadata": {},
   "outputs": [],
   "source": [
    "agt9 = teks_utuh(\"./Novel/Chapter/absolute-great-teacher-chapter-624-transforming-into-wind-ceremony-of-death.html\")"
   ]
  },
  {
   "cell_type": "code",
   "execution_count": 43,
   "metadata": {},
   "outputs": [],
   "source": [
    "agt10 = teks_utuh(\"./Novel/Chapter/absolute-great-teacher-chapter-625-sliding-into-the-dark-abyss.html\")"
   ]
  },
  {
   "cell_type": "code",
   "execution_count": 44,
   "metadata": {},
   "outputs": [],
   "source": [
    "agt11 = teks_utuh(\"./Novel/Chapter/absolute-great-teacher-chapter-625-sliding-into-the-dark-abyss.html\")"
   ]
  },
  {
   "cell_type": "code",
   "execution_count": 46,
   "metadata": {},
   "outputs": [],
   "source": [
    "aea1 = teks_utuh(\"./Novel/Chapter/archean-eon-art-chapter-753-treatment.html\")"
   ]
  },
  {
   "cell_type": "code",
   "execution_count": null,
   "metadata": {},
   "outputs": [],
   "source": []
  }
 ]
}